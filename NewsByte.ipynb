{
 "cells": [
  {
   "cell_type": "code",
   "execution_count": 16,
   "id": "b5c163fe",
   "metadata": {},
   "outputs": [],
   "source": [
    "import numpy as np\n",
    "import json\n",
    "import pandas as pd\n",
    "from transformers import pipeline\n",
    "import os\n",
    "import torch\n",
    "import torchvision\n",
    "from transformers import BertTokenizer, BertForSequenceClassification, AutoModelWithLMHead, PegasusTokenizer, PegasusForConditionalGeneration, TFPegasusForConditionalGeneration\n",
    "from torchmetrics.text.rouge import ROUGEScore\n",
    "from transformers import Trainer, TrainingArguments, PegasusForCausalLM\n",
    "from transformers import AutoTokenizer, AutoModelWithLMHead\n",
    "from sklearn.model_selection import train_test_split\n",
    "import evaluate"
   ]
  },
  {
   "cell_type": "code",
   "execution_count": 17,
   "id": "682b8ca7",
   "metadata": {},
   "outputs": [],
   "source": [
    "# rouge = ROUGEScore()"
   ]
  },
  {
   "cell_type": "code",
   "execution_count": 18,
   "id": "b02daf0c",
   "metadata": {},
   "outputs": [],
   "source": [
    "os.environ[\"CUDA_VISIBLE_DEVICES\"] = \"0\""
   ]
  },
  {
   "cell_type": "code",
   "execution_count": 19,
   "id": "e303f8bc",
   "metadata": {},
   "outputs": [],
   "source": [
    "data = pd.read_csv('train.csv')\n",
    "df_train = pd.DataFrame(data)\n",
    "df_train = df_train.drop(['Unnamed: 0'], axis=1)\n",
    "data_test = pd.read_csv('test.csv')\n",
    "df_test = pd.DataFrame(data_test)\n",
    "df_test = df_test.drop(['Unnamed: 0'], axis=1)"
   ]
  },
  {
   "cell_type": "code",
   "execution_count": 20,
   "id": "20ccc23a",
   "metadata": {
    "scrolled": true
   },
   "outputs": [
    {
     "data": {
      "text/html": [
       "<div>\n",
       "<style scoped>\n",
       "    .dataframe tbody tr th:only-of-type {\n",
       "        vertical-align: middle;\n",
       "    }\n",
       "\n",
       "    .dataframe tbody tr th {\n",
       "        vertical-align: top;\n",
       "    }\n",
       "\n",
       "    .dataframe thead th {\n",
       "        text-align: right;\n",
       "    }\n",
       "</style>\n",
       "<table border=\"1\" class=\"dataframe\">\n",
       "  <thead>\n",
       "    <tr style=\"text-align: right;\">\n",
       "      <th></th>\n",
       "      <th>id</th>\n",
       "      <th>article</th>\n",
       "      <th>stock</th>\n",
       "      <th>date</th>\n",
       "    </tr>\n",
       "  </thead>\n",
       "  <tbody>\n",
       "    <tr>\n",
       "      <th>0</th>\n",
       "      <td>1</td>\n",
       "      <td>Canadian equities resumed their downward trend...</td>\n",
       "      <td>SHOP</td>\n",
       "      <td>2022-07-06</td>\n",
       "    </tr>\n",
       "    <tr>\n",
       "      <th>1</th>\n",
       "      <td>2</td>\n",
       "      <td>Destiny Wealth Partners LLC bought a new stake...</td>\n",
       "      <td>CARR</td>\n",
       "      <td>2022-07-03</td>\n",
       "    </tr>\n",
       "    <tr>\n",
       "      <th>2</th>\n",
       "      <td>3</td>\n",
       "      <td>East West Bancorp, Inc. (NASDAQ:EWBC – ) – Inv...</td>\n",
       "      <td>EWBC</td>\n",
       "      <td>2022-07-25</td>\n",
       "    </tr>\n",
       "    <tr>\n",
       "      <th>3</th>\n",
       "      <td>4</td>\n",
       "      <td>Community Trust &amp; Investment Co. increased its...</td>\n",
       "      <td>APH</td>\n",
       "      <td>2022-07-06</td>\n",
       "    </tr>\n",
       "    <tr>\n",
       "      <th>4</th>\n",
       "      <td>5</td>\n",
       "      <td>Valley Brook Capital Group Inc. lessened its s...</td>\n",
       "      <td>TJX</td>\n",
       "      <td>2022-07-19</td>\n",
       "    </tr>\n",
       "  </tbody>\n",
       "</table>\n",
       "</div>"
      ],
      "text/plain": [
       "   id                                            article stock        date\n",
       "0   1  Canadian equities resumed their downward trend...  SHOP  2022-07-06\n",
       "1   2  Destiny Wealth Partners LLC bought a new stake...  CARR  2022-07-03\n",
       "2   3  East West Bancorp, Inc. (NASDAQ:EWBC – ) – Inv...  EWBC  2022-07-25\n",
       "3   4  Community Trust & Investment Co. increased its...   APH  2022-07-06\n",
       "4   5  Valley Brook Capital Group Inc. lessened its s...   TJX  2022-07-19"
      ]
     },
     "execution_count": 20,
     "metadata": {},
     "output_type": "execute_result"
    }
   ],
   "source": [
    "df_test.head()"
   ]
  },
  {
   "cell_type": "code",
   "execution_count": 28,
   "id": "483e69d2",
   "metadata": {},
   "outputs": [],
   "source": [
    "#Model for summarization\n",
    "tokenizer1 = AutoTokenizer.from_pretrained('t5-base')\n",
    "model1 = AutoModelWithLMHead.from_pretrained('t5-base', return_dict=True)\n",
    "def summ(article):\n",
    "    inputs = tokenizer1.encode(\"summarize: \" + article, return_tensors='pt', max_length=80, truncation=True)\n",
    "    summary_ids = model1.generate(inputs, max_length=80, min_length=80, length_penalty=5., num_beams=2)\n",
    "    summary = tokenizer1.decode(summary_ids[0])\n",
    "    return summary"
   ]
  },
  {
   "cell_type": "code",
   "execution_count": 22,
   "id": "f171cc54",
   "metadata": {
    "scrolled": true
   },
   "outputs": [],
   "source": [
    "# Model for stock Movement prediction\n",
    "finbert = BertForSequenceClassification.from_pretrained('yiyanghkust/finbert-tone',num_labels=3)\n",
    "tokenizer = BertTokenizer.from_pretrained('yiyanghkust/finbert-tone')\n",
    "finpred = pipeline(\"sentiment-analysis\", model=finbert, tokenizer=tokenizer)"
   ]
  },
  {
   "cell_type": "code",
   "execution_count": 23,
   "id": "5ac10ee9",
   "metadata": {
    "scrolled": true
   },
   "outputs": [
    {
     "data": {
      "text/html": [
       "<div>\n",
       "<style scoped>\n",
       "    .dataframe tbody tr th:only-of-type {\n",
       "        vertical-align: middle;\n",
       "    }\n",
       "\n",
       "    .dataframe tbody tr th {\n",
       "        vertical-align: top;\n",
       "    }\n",
       "\n",
       "    .dataframe thead th {\n",
       "        text-align: right;\n",
       "    }\n",
       "</style>\n",
       "<table border=\"1\" class=\"dataframe\">\n",
       "  <thead>\n",
       "    <tr style=\"text-align: right;\">\n",
       "      <th></th>\n",
       "      <th>id</th>\n",
       "      <th>article</th>\n",
       "      <th>stock</th>\n",
       "      <th>date</th>\n",
       "    </tr>\n",
       "  </thead>\n",
       "  <tbody>\n",
       "    <tr>\n",
       "      <th>0</th>\n",
       "      <td>1</td>\n",
       "      <td>Canadian equities resumed their downward trend...</td>\n",
       "      <td>SHOP</td>\n",
       "      <td>2022-07-06</td>\n",
       "    </tr>\n",
       "    <tr>\n",
       "      <th>1</th>\n",
       "      <td>2</td>\n",
       "      <td>Destiny Wealth Partners LLC bought a new stake...</td>\n",
       "      <td>CARR</td>\n",
       "      <td>2022-07-03</td>\n",
       "    </tr>\n",
       "    <tr>\n",
       "      <th>2</th>\n",
       "      <td>3</td>\n",
       "      <td>East West Bancorp, Inc. (NASDAQ:EWBC – ) – Inv...</td>\n",
       "      <td>EWBC</td>\n",
       "      <td>2022-07-25</td>\n",
       "    </tr>\n",
       "    <tr>\n",
       "      <th>3</th>\n",
       "      <td>4</td>\n",
       "      <td>Community Trust &amp; Investment Co. increased its...</td>\n",
       "      <td>APH</td>\n",
       "      <td>2022-07-06</td>\n",
       "    </tr>\n",
       "    <tr>\n",
       "      <th>4</th>\n",
       "      <td>5</td>\n",
       "      <td>Valley Brook Capital Group Inc. lessened its s...</td>\n",
       "      <td>TJX</td>\n",
       "      <td>2022-07-19</td>\n",
       "    </tr>\n",
       "  </tbody>\n",
       "</table>\n",
       "</div>"
      ],
      "text/plain": [
       "   id                                            article stock        date\n",
       "0   1  Canadian equities resumed their downward trend...  SHOP  2022-07-06\n",
       "1   2  Destiny Wealth Partners LLC bought a new stake...  CARR  2022-07-03\n",
       "2   3  East West Bancorp, Inc. (NASDAQ:EWBC – ) – Inv...  EWBC  2022-07-25\n",
       "3   4  Community Trust & Investment Co. increased its...   APH  2022-07-06\n",
       "4   5  Valley Brook Capital Group Inc. lessened its s...   TJX  2022-07-19"
      ]
     },
     "execution_count": 23,
     "metadata": {},
     "output_type": "execute_result"
    }
   ],
   "source": [
    "df_pred = df_test\n",
    "df_pred.head()\n",
    "# df_test\n",
    "# len(df_pred['id'])"
   ]
  },
  {
   "cell_type": "code",
   "execution_count": 24,
   "id": "a9136b99",
   "metadata": {
    "scrolled": false
   },
   "outputs": [
    {
     "name": "stdout",
     "output_type": "stream",
     "text": [
      "0\n",
      "1\n",
      "2\n",
      "3\n",
      "4\n"
     ]
    }
   ],
   "source": [
    "summaries = []\n",
    "for i in range(5):\n",
    "    article = df_test['article'][i]\n",
    "    summaries.append(summ(article))\n",
    "#     if i%100==0:\n",
    "    print(i)\n",
    "# df['summary'] = summaries"
   ]
  },
  {
   "cell_type": "code",
   "execution_count": 25,
   "id": "4e5af440",
   "metadata": {},
   "outputs": [
    {
     "data": {
      "text/plain": [
       "[{'label': 'Positive', 'score': 0.9980807304382324},\n",
       " {'label': 'Neutral', 'score': 0.9995177984237671},\n",
       " {'label': 'Positive', 'score': 0.9999977350234985},\n",
       " {'label': 'Neutral', 'score': 0.9426292777061462},\n",
       " {'label': 'Neutral', 'score': 0.9918287396430969}]"
      ]
     },
     "execution_count": 25,
     "metadata": {},
     "output_type": "execute_result"
    }
   ],
   "source": [
    "finpred(summaries)"
   ]
  },
  {
   "cell_type": "code",
   "execution_count": 26,
   "id": "91afa02b",
   "metadata": {},
   "outputs": [
    {
     "data": {
      "text/html": [
       "<div>\n",
       "<style scoped>\n",
       "    .dataframe tbody tr th:only-of-type {\n",
       "        vertical-align: middle;\n",
       "    }\n",
       "\n",
       "    .dataframe tbody tr th {\n",
       "        vertical-align: top;\n",
       "    }\n",
       "\n",
       "    .dataframe thead th {\n",
       "        text-align: right;\n",
       "    }\n",
       "</style>\n",
       "<table border=\"1\" class=\"dataframe\">\n",
       "  <thead>\n",
       "    <tr style=\"text-align: right;\">\n",
       "      <th></th>\n",
       "      <th>id</th>\n",
       "      <th>article</th>\n",
       "      <th>stock</th>\n",
       "      <th>date</th>\n",
       "    </tr>\n",
       "  </thead>\n",
       "  <tbody>\n",
       "    <tr>\n",
       "      <th>0</th>\n",
       "      <td>1</td>\n",
       "      <td>Canadian equities resumed their downward trend...</td>\n",
       "      <td>SHOP</td>\n",
       "      <td>2022-07-06</td>\n",
       "    </tr>\n",
       "    <tr>\n",
       "      <th>1</th>\n",
       "      <td>2</td>\n",
       "      <td>Destiny Wealth Partners LLC bought a new stake...</td>\n",
       "      <td>CARR</td>\n",
       "      <td>2022-07-03</td>\n",
       "    </tr>\n",
       "    <tr>\n",
       "      <th>2</th>\n",
       "      <td>3</td>\n",
       "      <td>East West Bancorp, Inc. (NASDAQ:EWBC – ) – Inv...</td>\n",
       "      <td>EWBC</td>\n",
       "      <td>2022-07-25</td>\n",
       "    </tr>\n",
       "    <tr>\n",
       "      <th>3</th>\n",
       "      <td>4</td>\n",
       "      <td>Community Trust &amp; Investment Co. increased its...</td>\n",
       "      <td>APH</td>\n",
       "      <td>2022-07-06</td>\n",
       "    </tr>\n",
       "    <tr>\n",
       "      <th>4</th>\n",
       "      <td>5</td>\n",
       "      <td>Valley Brook Capital Group Inc. lessened its s...</td>\n",
       "      <td>TJX</td>\n",
       "      <td>2022-07-19</td>\n",
       "    </tr>\n",
       "  </tbody>\n",
       "</table>\n",
       "</div>"
      ],
      "text/plain": [
       "   id                                            article stock        date\n",
       "0   1  Canadian equities resumed their downward trend...  SHOP  2022-07-06\n",
       "1   2  Destiny Wealth Partners LLC bought a new stake...  CARR  2022-07-03\n",
       "2   3  East West Bancorp, Inc. (NASDAQ:EWBC – ) – Inv...  EWBC  2022-07-25\n",
       "3   4  Community Trust & Investment Co. increased its...   APH  2022-07-06\n",
       "4   5  Valley Brook Capital Group Inc. lessened its s...   TJX  2022-07-19"
      ]
     },
     "execution_count": 26,
     "metadata": {},
     "output_type": "execute_result"
    }
   ],
   "source": [
    "# df_pred.rename(columns = {'article':'summary'}, inplace = True)\n",
    "df_pred.head()"
   ]
  },
  {
   "cell_type": "code",
   "execution_count": 29,
   "id": "46a9a386",
   "metadata": {},
   "outputs": [],
   "source": [
    "for i in range(1):\n",
    "    summary = df_pred['summary'][i]\n",
    "    finpredic = finpred(summary)\n",
    "finpredic"
   ]
  },
  {
   "cell_type": "code",
   "execution_count": 31,
   "id": "b2ea200a",
   "metadata": {},
   "outputs": [
    {
     "data": {
      "text/plain": [
       "'<pad> Destiny Wealth Partners LLC bought 1,300 shares of the company’s stock, valued at approximately $600,000. a number of other hedge funds have also recently added to or reduced their stakes in CARR. a number of other hedge funds have also recently added to or reduced their stakes in CARR. a number of other hedge funds have also recently'"
      ]
     },
     "execution_count": 31,
     "metadata": {},
     "output_type": "execute_result"
    }
   ],
   "source": [
    "summaries[1]"
   ]
  },
  {
   "cell_type": "code",
   "execution_count": null,
   "id": "d2ab7485",
   "metadata": {},
   "outputs": [],
   "source": []
  }
 ],
 "metadata": {
  "kernelspec": {
   "display_name": "Python 3",
   "language": "python",
   "name": "python3"
  },
  "language_info": {
   "codemirror_mode": {
    "name": "ipython",
    "version": 3
   },
   "file_extension": ".py",
   "mimetype": "text/x-python",
   "name": "python",
   "nbconvert_exporter": "python",
   "pygments_lexer": "ipython3",
   "version": "3.8.8"
  }
 },
 "nbformat": 4,
 "nbformat_minor": 5
}
